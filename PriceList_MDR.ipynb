{
  "nbformat": 4,
  "nbformat_minor": 0,
  "metadata": {
    "colab": {
      "name": "PriceList_MDR.ipynb",
      "provenance": [],
      "collapsed_sections": [],
      "include_colab_link": true
    },
    "kernelspec": {
      "name": "python2",
      "display_name": "Python 2"
    },
    "accelerator": "GPU"
  },
  "cells": [
    {
      "cell_type": "markdown",
      "metadata": {
        "id": "view-in-github",
        "colab_type": "text"
      },
      "source": [
        "<a href=\"https://colab.research.google.com/github/Aldwin-b/PriceList/blob/main/PriceList_MDR.ipynb\" target=\"_parent\"><img src=\"https://colab.research.google.com/assets/colab-badge.svg\" alt=\"Open In Colab\"/></a>"
      ]
    },
    {
      "metadata": {
        "id": "I1dsidLuUQ-l"
      },
      "cell_type": "markdown",
      "source": [
        "# Multi Digit Number Recognition\n",
        "\n",
        "Original Project https://github.com/ozanpekmezci/capstone/blob/master/multi_digit_recognition.ipynb"
      ]
    },
    {
      "metadata": {
        "id": "_QUuHcyyF5iq"
      },
      "cell_type": "code",
      "source": [
        "# Module Imports\n",
        "\n",
        "import numpy as np\n",
        "from __future__ import print_function\n",
        "import random\n",
        "import glob\n",
        "import cv2\n",
        "import os\n",
        "\n",
        "\n",
        "import numpy as np\n",
        "from scipy import misc\n",
        "import tensorflow as tf\n",
        "import h5py\n",
        "\n",
        "from keras.datasets import mnist\n",
        "from keras.utils import np_utils\n",
        "\n",
        "import matplotlib.pyplot as plt\n",
        "%matplotlib inline\n",
        "\n",
        "import torch"
      ],
      "execution_count": null,
      "outputs": []
    },
    {
      "metadata": {
        "id": "F_giURzYGjWO"
      },
      "cell_type": "code",
      "source": [
        "# Setting the random seed so that the results are reproducible. \n",
        "random.seed(42)\n",
        "\n",
        "# Setting variables for MNIST image dimensions\n",
        "mnist_image_height = 28\n",
        "mnist_image_width = 28"
      ],
      "execution_count": null,
      "outputs": []
    },
    {
      "metadata": {
        "id": "bI8G9CDQG5xi"
      },
      "cell_type": "code",
      "source": [
        "# Import MNIST data from keras\n",
        "(X_train, y_train), (X_test, y_test) = mnist.load_data()"
      ],
      "execution_count": null,
      "outputs": []
    },
    {
      "metadata": {
        "id": "UK68ofOrHnI1",
        "colab": {
          "base_uri": "https://localhost:8080/",
          "height": 317
        },
        "outputId": "8cf9eb0a-f992-4ac5-b5b4-89eff0de577a"
      },
      "cell_type": "code",
      "source": [
        "#Checking the downloaded data\n",
        "print(\"Shape of training dataset: {}\".format(np.shape(X_train)))\n",
        "print(\"Shape of test dataset: {}\".format(np.shape(X_test)))\n",
        "\n",
        "\n",
        "plt.figure()\n",
        "plt.imshow(X_train[0], cmap='gray')\n",
        "\n",
        "print(\"Label for image: {}\".format(y_train[0]))"
      ],
      "execution_count": null,
      "outputs": [
        {
          "output_type": "stream",
          "name": "stdout",
          "text": [
            "Shape of training dataset: (60000, 28, 28)\n",
            "Shape of test dataset: (10000, 28, 28)\n",
            "Label for image: 5\n"
          ]
        },
        {
          "output_type": "display_data",
          "data": {
            "text/plain": [
              "<Figure size 432x288 with 1 Axes>"
            ],
            "image/png": "[encoded data removed]"
          },
          "metadata": {
            "needs_background": "light"
          }
        }
      ]
    },
    {
      "metadata": {
        "id": "03bKktXm-lRl"
      },
      "cell_type": "markdown",
      "source": [
        "## Building a new dataset\n",
        "This method builds a new synthetic dataset that stitches multiple digits together. Labels and data can contain numbers from 0 to 9 including the blank character for shorter house numbers. The length is preset to be always 5."
      ]
    },
    {
      "metadata": {
        "id": "yOeiOOpLI-P-"
      },
      "cell_type": "code",
      "source": [
        "def build_synth_data(data, labels, dataset_size):\n",
        "    \n",
        "    # Define synthetic image dimensions\n",
        "    synth_img_height = 64\n",
        "    synth_img_width = 64\n",
        "    \n",
        "    # Define synthetic data\n",
        "    synth_data = np.ndarray(shape=(dataset_size, synth_img_height,\n",
        "                                   synth_img_width), dtype=np.float32)\n",
        "    \n",
        "    # Define synthetic labels\n",
        "    synth_labels = [] \n",
        "    \n",
        "    # For a loop till the size of the synthetic dataset\n",
        "    for i in range(0,dataset_size):\n",
        "        \n",
        "        # Pick a random number of digits to be in the dataset\n",
        "        num_digits = random.randint(1,5)\n",
        "        \n",
        "        # Randomly sampling indices to extract digits + labels afterwards\n",
        "        s_indices = [random.randint(0, len(data)-1) for p in range(0, num_digits)]\n",
        "        \n",
        "        # stitch images together\n",
        "        new_image = np.hstack([X_train[index] for index in s_indices])\n",
        "        # stitch the labels together\n",
        "        new_label =  [y_train[index] for index in s_indices]\n",
        "        \n",
        "        \n",
        "        # Loop till number of digits - 5, to concatenate blanks images, and blank labels together\n",
        "        for j in range(0,5-num_digits):\n",
        "            new_image = np.hstack([new_image, np.zeros(shape=(mnist_image_height,\n",
        "                                                                   mnist_image_width))])\n",
        "            new_label.append(10) #Might need to remove this step\n",
        "        \n",
        "        # Resize image\n",
        "        new_image =cv2.resize(new_image,(64,64))\n",
        "        \n",
        "        # Assign the image to synth_data\n",
        "        synth_data[i,:,:] = new_image\n",
        "        \n",
        "        # Assign the label to synth_data\n",
        "        synth_labels.append(tuple(new_label))\n",
        "        \n",
        "    \n",
        "    # Return the synthetic dataset\n",
        "    return synth_data,synth_labels"
      ],
      "execution_count": null,
      "outputs": []
    },
    {
      "metadata": {
        "id": "usRGcxtiJr0N"
      },
      "cell_type": "code",
      "source": [
        "# Building the training dataset\n",
        "X_synth_train, y_synth_train = build_synth_data(X_train, y_train, 60000)"
      ],
      "execution_count": null,
      "outputs": []
    },
    {
      "metadata": {
        "id": "dLNhglO0J1Xk"
      },
      "cell_type": "code",
      "source": [
        "# Building the test dataset\n",
        "X_synth_test, y_synth_test = build_synth_data(X_test, y_test, 10000)"
      ],
      "execution_count": null,
      "outputs": []
    },
    {
      "metadata": {
        "id": "xOQpSYQNHKIu"
      },
      "cell_type": "markdown",
      "source": [
        "## Convert Labels\n",
        "This function converts each digit label to one-hot array."
      ]
    },
    {
      "metadata": {
        "id": "slWvJtn2Kts1"
      },
      "cell_type": "code",
      "source": [
        "# Converting labels to One-hot representations of shape (set_size, digits, classes)\n",
        "possible_classes = 11\n",
        "\n",
        "def convert_labels(labels):\n",
        "    \n",
        "    # As per Keras conventions, the multiple labels need to be of the form [array_digit1,...5]\n",
        "    # Each digit array will be of shape (60000,11)\n",
        "        \n",
        "    # Declare output ndarrays\n",
        "    # 5 for digits, 11 for possible classes  \n",
        "    dig0_arr = np.ndarray(shape=(len(labels),possible_classes))\n",
        "    dig1_arr = np.ndarray(shape=(len(labels),possible_classes))\n",
        "    dig2_arr = np.ndarray(shape=(len(labels),possible_classes))\n",
        "    dig3_arr = np.ndarray(shape=(len(labels),possible_classes))\n",
        "    dig4_arr = np.ndarray(shape=(len(labels),possible_classes))\n",
        "    \n",
        "    for index,label in enumerate(labels):\n",
        "        \n",
        "        # Using np_utils from keras to OHE the labels in the image\n",
        "        dig0_arr[index,:] = np_utils.to_categorical(label[0],possible_classes)\n",
        "        dig1_arr[index,:] = np_utils.to_categorical(label[1],possible_classes)\n",
        "        dig2_arr[index,:] = np_utils.to_categorical(label[2],possible_classes)\n",
        "        dig3_arr[index,:] = np_utils.to_categorical(label[3],possible_classes)\n",
        "        dig4_arr[index,:] = np_utils.to_categorical(label[4],possible_classes)\n",
        "        \n",
        "    return [dig0_arr,dig1_arr,dig2_arr,dig3_arr,dig4_arr]"
      ],
      "execution_count": null,
      "outputs": []
    },
    {
      "metadata": {
        "id": "17m-itv9Lizo"
      },
      "cell_type": "code",
      "source": [
        "train_labels = convert_labels(y_synth_train)\n",
        "test_labels = convert_labels(y_synth_test)"
      ],
      "execution_count": null,
      "outputs": []
    },
    {
      "metadata": {
        "id": "Oe8PQKllIT2N"
      },
      "cell_type": "markdown",
      "source": [
        "## Prepare Data for Keras\n",
        "Reshape image data to be processed by Keras."
      ]
    },
    {
      "metadata": {
        "id": "WTQg2PaWLzc0"
      },
      "cell_type": "code",
      "source": [
        "def prep_data_keras(img_data):\n",
        "    \n",
        "    # Reshaping data for keras, with tensorflow as backend\n",
        "    img_data = img_data.reshape(len(img_data), 64, 64, 1)\n",
        "    \n",
        "    # Converting everything to floats\n",
        "    img_data = img_data.astype('float32')\n",
        "    \n",
        "    # Normalizing values between 0 and 1\n",
        "    img_data /= 255\n",
        "    \n",
        "    return img_data\n"
      ],
      "execution_count": null,
      "outputs": []
    },
    {
      "metadata": {
        "id": "GHUhGAErL--5"
      },
      "cell_type": "code",
      "source": [
        "train_images = prep_data_keras(X_synth_train)\n",
        "test_images = prep_data_keras(X_synth_test)"
      ],
      "execution_count": null,
      "outputs": []
    },
    {
      "metadata": {
        "id": "INF-j_J_MTi_"
      },
      "cell_type": "code",
      "source": [
        "# Importing relevant keras modules\n",
        "from keras.models import Sequential, Model\n",
        "from keras.layers import Dense, Dropout, Activation, Flatten, Input\n",
        "from keras.layers import Conv2D, MaxPooling2D"
      ],
      "execution_count": null,
      "outputs": []
    },
    {
      "metadata": {
        "id": "sj66iuNtLfJu"
      },
      "cell_type": "markdown",
      "source": [
        "## Build Model\n",
        "Build Deep Learning model to process data."
      ]
    },
    {
      "metadata": {
        "id": "ixTneFcAM_BN",
        "colab": {
          "base_uri": "https://localhost:8080/"
        },
        "outputId": "1a92a0e3-efb3-4ba0-c141-0fd8cda8841c"
      },
      "cell_type": "code",
      "source": [
        "# Building the model\n",
        "\n",
        "batch_size = 128\n",
        "nb_classes = 11\n",
        "nb_epoch = 15\n",
        "\n",
        "# image input dimensions\n",
        "img_rows = 64\n",
        "img_cols = 64\n",
        "img_channels = 1\n",
        "\n",
        "# number of convulation filters to use\n",
        "nb_filters = 32\n",
        "# size of pooling area for max pooling\n",
        "pool_size = (2, 2)\n",
        "# convolution kernel size\n",
        "kernel_size = (3, 3)\n",
        "\n",
        "# defining the input\n",
        "inputs = Input(shape=(img_rows, img_cols, img_channels))\n",
        "\n",
        "# Model taken from keras example.\n",
        "cov = Conv2D(nb_filters, kernel_size=kernel_size, padding='same')(inputs)\n",
        "cov = Activation('relu')(cov)\n",
        "cov = Conv2D(nb_filters, kernel_size=kernel_size, padding='same')(cov)\n",
        "cov = Activation('relu')(cov)\n",
        "cov = MaxPooling2D(pool_size=pool_size)(cov)\n",
        "cov = Dropout(0.25)(cov)\n",
        "cov_out = Flatten()(cov)\n",
        "\n",
        "\n",
        "# Dense Layers\n",
        "cov2 = Dense(128, activation='relu')(cov_out)\n",
        "cov2 = Dropout(0.5)(cov2)\n",
        "\n",
        "\n",
        "\n",
        "# Prediction layers\n",
        "c0 = Dense(nb_classes, activation='softmax')(cov2)\n",
        "c1 = Dense(nb_classes, activation='softmax')(cov2)\n",
        "c2 = Dense(nb_classes, activation='softmax')(cov2)\n",
        "c3 = Dense(nb_classes, activation='softmax')(cov2)\n",
        "c4 = Dense(nb_classes, activation='softmax')(cov2)\n",
        "\n",
        "# Defining the model\n",
        "model = Model(inputs=inputs,outputs=[c0,c1,c2,c3,c4])\n",
        "\n",
        "# Compiling the model\n",
        "model.compile(loss='categorical_crossentropy',optimizer='adam',metrics=['accuracy'])\n",
        "\n",
        "# Fitting the model\n",
        "model.fit(train_images,train_labels,batch_size=batch_size,epochs=nb_epoch,verbose=1,\n",
        "          validation_data=(test_images, test_labels))"
      ],
      "execution_count": null,
      "outputs": [
        {
          "output_type": "stream",
          "name": "stdout",
          "text": [
            "Epoch 1/15\n",
            "469/469 [==============================] - 32s 65ms/step - loss: 3.6486 - dense_7_loss: 0.9279 - dense_8_loss: 0.8801 - dense_9_loss: 0.7715 - dense_10_loss: 0.6507 - dense_11_loss: 0.4184 - dense_7_accuracy: 0.6865 - dense_8_accuracy: 0.7090 - dense_9_accuracy: 0.7478 - dense_10_accuracy: 0.7928 - dense_11_accuracy: 0.8705 - val_loss: 1.0306 - val_dense_7_loss: 0.2449 - val_dense_8_loss: 0.2294 - val_dense_9_loss: 0.2227 - val_dense_10_loss: 0.1732 - val_dense_11_loss: 0.1604 - val_dense_7_accuracy: 0.9395 - val_dense_8_accuracy: 0.9413 - val_dense_9_accuracy: 0.9489 - val_dense_10_accuracy: 0.9617 - val_dense_11_accuracy: 0.9556\n",
            "Epoch 2/15\n",
            "469/469 [==============================] - 29s 61ms/step - loss: 2.2950 - dense_7_loss: 0.5614 - dense_8_loss: 0.5348 - dense_9_loss: 0.4969 - dense_10_loss: 0.4155 - dense_11_loss: 0.2864 - dense_7_accuracy: 0.8126 - dense_8_accuracy: 0.8215 - dense_9_accuracy: 0.8343 - dense_10_accuracy: 0.8627 - dense_11_accuracy: 0.9059 - val_loss: 0.7348 - val_dense_7_loss: 0.1722 - val_dense_8_loss: 0.1604 - val_dense_9_loss: 0.1610 - val_dense_10_loss: 0.1288 - val_dense_11_loss: 0.1124 - val_dense_7_accuracy: 0.9601 - val_dense_8_accuracy: 0.9652 - val_dense_9_accuracy: 0.9645 - val_dense_10_accuracy: 0.9742 - val_dense_11_accuracy: 0.9755\n",
            "Epoch 3/15\n",
            "469/469 [==============================] - 29s 62ms/step - loss: 1.9604 - dense_7_loss: 0.4723 - dense_8_loss: 0.4539 - dense_9_loss: 0.4301 - dense_10_loss: 0.3567 - dense_11_loss: 0.2474 - dense_7_accuracy: 0.8422 - dense_8_accuracy: 0.8471 - dense_9_accuracy: 0.8561 - dense_10_accuracy: 0.8807 - dense_11_accuracy: 0.9184 - val_loss: 0.5829 - val_dense_7_loss: 0.1366 - val_dense_8_loss: 0.1286 - val_dense_9_loss: 0.1265 - val_dense_10_loss: 0.0969 - val_dense_11_loss: 0.0942 - val_dense_7_accuracy: 0.9663 - val_dense_8_accuracy: 0.9710 - val_dense_9_accuracy: 0.9721 - val_dense_10_accuracy: 0.9816 - val_dense_11_accuracy: 0.9798\n",
            "Epoch 4/15\n",
            "469/469 [==============================] - 28s 61ms/step - loss: 1.7495 - dense_7_loss: 0.4145 - dense_8_loss: 0.3974 - dense_9_loss: 0.3864 - dense_10_loss: 0.3228 - dense_11_loss: 0.2284 - dense_7_accuracy: 0.8611 - dense_8_accuracy: 0.8669 - dense_9_accuracy: 0.8698 - dense_10_accuracy: 0.8906 - dense_11_accuracy: 0.9225 - val_loss: 0.5162 - val_dense_7_loss: 0.1190 - val_dense_8_loss: 0.1066 - val_dense_9_loss: 0.1120 - val_dense_10_loss: 0.0840 - val_dense_11_loss: 0.0946 - val_dense_7_accuracy: 0.9684 - val_dense_8_accuracy: 0.9743 - val_dense_9_accuracy: 0.9740 - val_dense_10_accuracy: 0.9808 - val_dense_11_accuracy: 0.9758\n",
            "Epoch 5/15\n",
            "469/469 [==============================] - 28s 61ms/step - loss: 1.5900 - dense_7_loss: 0.3712 - dense_8_loss: 0.3605 - dense_9_loss: 0.3493 - dense_10_loss: 0.2941 - dense_11_loss: 0.2149 - dense_7_accuracy: 0.8742 - dense_8_accuracy: 0.8777 - dense_9_accuracy: 0.8805 - dense_10_accuracy: 0.8997 - dense_11_accuracy: 0.9264 - val_loss: 0.4366 - val_dense_7_loss: 0.1025 - val_dense_8_loss: 0.0925 - val_dense_9_loss: 0.0983 - val_dense_10_loss: 0.0694 - val_dense_11_loss: 0.0740 - val_dense_7_accuracy: 0.9723 - val_dense_8_accuracy: 0.9760 - val_dense_9_accuracy: 0.9757 - val_dense_10_accuracy: 0.9820 - val_dense_11_accuracy: 0.9810\n",
            "Epoch 6/15\n",
            "469/469 [==============================] - 29s 61ms/step - loss: 1.4579 - dense_7_loss: 0.3383 - dense_8_loss: 0.3262 - dense_9_loss: 0.3234 - dense_10_loss: 0.2744 - dense_11_loss: 0.1955 - dense_7_accuracy: 0.8843 - dense_8_accuracy: 0.8887 - dense_9_accuracy: 0.8899 - dense_10_accuracy: 0.9054 - dense_11_accuracy: 0.9326 - val_loss: 0.4142 - val_dense_7_loss: 0.0952 - val_dense_8_loss: 0.0880 - val_dense_9_loss: 0.0942 - val_dense_10_loss: 0.0654 - val_dense_11_loss: 0.0713 - val_dense_7_accuracy: 0.9758 - val_dense_8_accuracy: 0.9771 - val_dense_9_accuracy: 0.9771 - val_dense_10_accuracy: 0.9846 - val_dense_11_accuracy: 0.9834\n",
            "Epoch 7/15\n",
            "469/469 [==============================] - 29s 62ms/step - loss: 1.3372 - dense_7_loss: 0.3077 - dense_8_loss: 0.2991 - dense_9_loss: 0.2926 - dense_10_loss: 0.2508 - dense_11_loss: 0.1870 - dense_7_accuracy: 0.8949 - dense_8_accuracy: 0.8971 - dense_9_accuracy: 0.8983 - dense_10_accuracy: 0.9128 - dense_11_accuracy: 0.9349 - val_loss: 0.3756 - val_dense_7_loss: 0.0876 - val_dense_8_loss: 0.0783 - val_dense_9_loss: 0.0875 - val_dense_10_loss: 0.0568 - val_dense_11_loss: 0.0654 - val_dense_7_accuracy: 0.9753 - val_dense_8_accuracy: 0.9785 - val_dense_9_accuracy: 0.9765 - val_dense_10_accuracy: 0.9859 - val_dense_11_accuracy: 0.9835\n",
            "Epoch 8/15\n",
            "469/469 [==============================] - 29s 62ms/step - loss: 1.2542 - dense_7_loss: 0.2892 - dense_8_loss: 0.2774 - dense_9_loss: 0.2743 - dense_10_loss: 0.2368 - dense_11_loss: 0.1765 - dense_7_accuracy: 0.8994 - dense_8_accuracy: 0.9032 - dense_9_accuracy: 0.9035 - dense_10_accuracy: 0.9157 - dense_11_accuracy: 0.9376 - val_loss: 0.3646 - val_dense_7_loss: 0.0856 - val_dense_8_loss: 0.0753 - val_dense_9_loss: 0.0815 - val_dense_10_loss: 0.0540 - val_dense_11_loss: 0.0681 - val_dense_7_accuracy: 0.9753 - val_dense_8_accuracy: 0.9794 - val_dense_9_accuracy: 0.9789 - val_dense_10_accuracy: 0.9863 - val_dense_11_accuracy: 0.9828\n",
            "Epoch 9/15\n",
            "469/469 [==============================] - 29s 62ms/step - loss: 1.1696 - dense_7_loss: 0.2702 - dense_8_loss: 0.2573 - dense_9_loss: 0.2557 - dense_10_loss: 0.2212 - dense_11_loss: 0.1653 - dense_7_accuracy: 0.9059 - dense_8_accuracy: 0.9093 - dense_9_accuracy: 0.9085 - dense_10_accuracy: 0.9221 - dense_11_accuracy: 0.9412 - val_loss: 0.3445 - val_dense_7_loss: 0.0795 - val_dense_8_loss: 0.0707 - val_dense_9_loss: 0.0805 - val_dense_10_loss: 0.0539 - val_dense_11_loss: 0.0600 - val_dense_7_accuracy: 0.9788 - val_dense_8_accuracy: 0.9804 - val_dense_9_accuracy: 0.9770 - val_dense_10_accuracy: 0.9861 - val_dense_11_accuracy: 0.9849\n",
            "Epoch 10/15\n",
            "469/469 [==============================] - 30s 64ms/step - loss: 1.1089 - dense_7_loss: 0.2549 - dense_8_loss: 0.2443 - dense_9_loss: 0.2397 - dense_10_loss: 0.2102 - dense_11_loss: 0.1597 - dense_7_accuracy: 0.9085 - dense_8_accuracy: 0.9130 - dense_9_accuracy: 0.9135 - dense_10_accuracy: 0.9245 - dense_11_accuracy: 0.9438 - val_loss: 0.3221 - val_dense_7_loss: 0.0756 - val_dense_8_loss: 0.0653 - val_dense_9_loss: 0.0738 - val_dense_10_loss: 0.0458 - val_dense_11_loss: 0.0616 - val_dense_7_accuracy: 0.9785 - val_dense_8_accuracy: 0.9812 - val_dense_9_accuracy: 0.9800 - val_dense_10_accuracy: 0.9883 - val_dense_11_accuracy: 0.9849\n",
            "Epoch 11/15\n",
            "469/469 [==============================] - 30s 64ms/step - loss: 1.0536 - dense_7_loss: 0.2386 - dense_8_loss: 0.2353 - dense_9_loss: 0.2245 - dense_10_loss: 0.2016 - dense_11_loss: 0.1536 - dense_7_accuracy: 0.9155 - dense_8_accuracy: 0.9147 - dense_9_accuracy: 0.9198 - dense_10_accuracy: 0.9275 - dense_11_accuracy: 0.9444 - val_loss: 0.3170 - val_dense_7_loss: 0.0682 - val_dense_8_loss: 0.0664 - val_dense_9_loss: 0.0754 - val_dense_10_loss: 0.0466 - val_dense_11_loss: 0.0603 - val_dense_7_accuracy: 0.9805 - val_dense_8_accuracy: 0.9817 - val_dense_9_accuracy: 0.9799 - val_dense_10_accuracy: 0.9872 - val_dense_11_accuracy: 0.9860\n",
            "Epoch 12/15\n",
            "469/469 [==============================] - 29s 62ms/step - loss: 0.9971 - dense_7_loss: 0.2267 - dense_8_loss: 0.2219 - dense_9_loss: 0.2158 - dense_10_loss: 0.1919 - dense_11_loss: 0.1408 - dense_7_accuracy: 0.9189 - dense_8_accuracy: 0.9194 - dense_9_accuracy: 0.9211 - dense_10_accuracy: 0.9301 - dense_11_accuracy: 0.9491 - val_loss: 0.3116 - val_dense_7_loss: 0.0665 - val_dense_8_loss: 0.0619 - val_dense_9_loss: 0.0721 - val_dense_10_loss: 0.0458 - val_dense_11_loss: 0.0653 - val_dense_7_accuracy: 0.9802 - val_dense_8_accuracy: 0.9828 - val_dense_9_accuracy: 0.9796 - val_dense_10_accuracy: 0.9878 - val_dense_11_accuracy: 0.9840\n",
            "Epoch 13/15\n",
            "469/469 [==============================] - 29s 63ms/step - loss: 0.9491 - dense_7_loss: 0.2196 - dense_8_loss: 0.2096 - dense_9_loss: 0.2015 - dense_10_loss: 0.1815 - dense_11_loss: 0.1369 - dense_7_accuracy: 0.9207 - dense_8_accuracy: 0.9244 - dense_9_accuracy: 0.9281 - dense_10_accuracy: 0.9335 - dense_11_accuracy: 0.9510 - val_loss: 0.3090 - val_dense_7_loss: 0.0677 - val_dense_8_loss: 0.0614 - val_dense_9_loss: 0.0712 - val_dense_10_loss: 0.0462 - val_dense_11_loss: 0.0625 - val_dense_7_accuracy: 0.9807 - val_dense_8_accuracy: 0.9828 - val_dense_9_accuracy: 0.9812 - val_dense_10_accuracy: 0.9876 - val_dense_11_accuracy: 0.9855\n",
            "Epoch 14/15\n",
            "469/469 [==============================] - 29s 63ms/step - loss: 0.9214 - dense_7_loss: 0.2112 - dense_8_loss: 0.2054 - dense_9_loss: 0.1974 - dense_10_loss: 0.1768 - dense_11_loss: 0.1306 - dense_7_accuracy: 0.9228 - dense_8_accuracy: 0.9248 - dense_9_accuracy: 0.9274 - dense_10_accuracy: 0.9360 - dense_11_accuracy: 0.9526 - val_loss: 0.2945 - val_dense_7_loss: 0.0642 - val_dense_8_loss: 0.0579 - val_dense_9_loss: 0.0726 - val_dense_10_loss: 0.0402 - val_dense_11_loss: 0.0596 - val_dense_7_accuracy: 0.9815 - val_dense_8_accuracy: 0.9830 - val_dense_9_accuracy: 0.9811 - val_dense_10_accuracy: 0.9898 - val_dense_11_accuracy: 0.9865\n",
            "Epoch 15/15\n",
            "469/469 [==============================] - 29s 62ms/step - loss: 0.8860 - dense_7_loss: 0.2007 - dense_8_loss: 0.1961 - dense_9_loss: 0.1894 - dense_10_loss: 0.1742 - dense_11_loss: 0.1256 - dense_7_accuracy: 0.9259 - dense_8_accuracy: 0.9273 - dense_9_accuracy: 0.9294 - dense_10_accuracy: 0.9358 - dense_11_accuracy: 0.9540 - val_loss: 0.2878 - val_dense_7_loss: 0.0660 - val_dense_8_loss: 0.0557 - val_dense_9_loss: 0.0706 - val_dense_10_loss: 0.0404 - val_dense_11_loss: 0.0550 - val_dense_7_accuracy: 0.9812 - val_dense_8_accuracy: 0.9849 - val_dense_9_accuracy: 0.9810 - val_dense_10_accuracy: 0.9889 - val_dense_11_accuracy: 0.9868\n"
          ]
        },
        {
          "output_type": "execute_result",
          "data": {
            "text/plain": [
              "<keras.callbacks.History at 0x7f03382cf090>"
            ]
          },
          "metadata": {},
          "execution_count": 27
        }
      ]
    },
    {
      "metadata": {
        "id": "w1gl0EeoPo6k"
      },
      "cell_type": "code",
      "source": [
        "predictions = model.predict(test_images)"
      ],
      "execution_count": null,
      "outputs": []
    },
    {
      "metadata": {
        "id": "k8gkvmbWLoY1"
      },
      "cell_type": "markdown",
      "source": [
        "## Calculate Accuracy\n",
        "Custom accuracy calculation for individual digits and the whole sequence."
      ]
    },
    {
      "metadata": {
        "id": "UHb7NM2sQZ3U"
      },
      "cell_type": "code",
      "source": [
        "def calculate_acc(predictions,real_labels):\n",
        "    \n",
        "    individual_counter = 0\n",
        "    global_sequence_counter = 0\n",
        "    for i in range(0,len(predictions[0])):\n",
        "        # Reset sequence counter at the start of each image\n",
        "        sequence_counter = 0 \n",
        "        \n",
        "        for j in range(0,5):\n",
        "            if np.argmax(predictions[j][i]) == np.argmax(real_labels[j][i]):\n",
        "                individual_counter += 1\n",
        "                sequence_counter += 1\n",
        "        \n",
        "        if sequence_counter == 5:\n",
        "            global_sequence_counter += 1\n",
        "         \n",
        "    ind_accuracy = individual_counter/50000.0\n",
        "    global_accuracy = global_sequence_counter/10000.0\n",
        "    \n",
        "    return ind_accuracy,global_accuracy"
      ],
      "execution_count": null,
      "outputs": []
    },
    {
      "metadata": {
        "id": "LZSUiAerQ7tq"
      },
      "cell_type": "code",
      "source": [
        "ind_acc, glob_acc = calculate_acc(predictions, test_labels)"
      ],
      "execution_count": null,
      "outputs": []
    },
    {
      "metadata": {
        "id": "_I57NhTmRu2P",
        "colab": {
          "base_uri": "https://localhost:8080/"
        },
        "outputId": "4adaff67-059b-4163-b6b7-d87d2a671376"
      },
      "cell_type": "code",
      "source": [
        "print(\"The individual accuracy is {} %\".format(ind_acc * 100))\n",
        "print(\"The sequence prediction accuracy is {} %\".format(glob_acc * 100))"
      ],
      "execution_count": null,
      "outputs": [
        {
          "output_type": "stream",
          "name": "stdout",
          "text": [
            "The individual accuracy is 98.456 %\n",
            "The sequence prediction accuracy is 92.73 %\n"
          ]
        }
      ]
    },
    {
      "metadata": {
        "id": "TI7q72qiR49W",
        "colab": {
          "base_uri": "https://localhost:8080/"
        },
        "outputId": "29c5e1ea-4d82-4c2b-ebfb-d66da8c55ac1"
      },
      "cell_type": "code",
      "source": [
        "# Printing some examples of real and predicted labels\n",
        "for i in random.sample(range(0,4),4):\n",
        "    \n",
        "    actual_labels = []\n",
        "    predicted_labels = []\n",
        "    \n",
        "    for j in range(0,5):\n",
        "        actual_labels.append(np.argmax(test_labels[j][i]))\n",
        "        predicted_labels.append(np.argmax(predictions[j][i]))\n",
        "        \n",
        "    print(\"Actual labels: {}\".format(actual_labels))\n",
        "    print(\"Predicted labels: {}\\n\".format(predicted_labels))"
      ],
      "execution_count": null,
      "outputs": [
        {
          "output_type": "stream",
          "name": "stdout",
          "text": [
            "Actual labels: [9, 6, 9, 10, 10]\n",
            "Predicted labels: [9, 6, 9, 10, 10]\n",
            "\n",
            "Actual labels: [6, 8, 1, 0, 2]\n",
            "Predicted labels: [6, 8, 1, 0, 2]\n",
            "\n",
            "Actual labels: [2, 7, 0, 0, 8]\n",
            "Predicted labels: [2, 7, 0, 0, 8]\n",
            "\n",
            "Actual labels: [0, 0, 7, 4, 10]\n",
            "Predicted labels: [0, 0, 7, 4, 10]\n",
            "\n"
          ]
        }
      ]
    },
    {
      "cell_type": "code",
      "source": [
        "print(predictions)"
      ],
      "metadata": {
        "colab": {
          "base_uri": "https://localhost:8080/"
        },
        "id": "RJEi3u2n8Zj6",
        "outputId": "ac3cf1b1-dbb0-4c79-8b34-8684546fc028"
      },
      "execution_count": null,
      "outputs": [
        {
          "output_type": "stream",
          "name": "stdout",
          "text": [
            "[array([[9.9930131e-01, 6.4032252e-10, 1.7917901e-07, ..., 5.9688051e-04,\n",
            "        9.9530465e-05, 2.3554102e-16],\n",
            "       [2.1038360e-08, 2.9904782e-03, 9.8883957e-01, ..., 1.3432149e-05,\n",
            "        1.3222046e-07, 9.1998654e-14],\n",
            "       [1.0442943e-06, 2.2672614e-08, 4.3847699e-09, ..., 4.5617884e-03,\n",
            "        2.1824244e-02, 5.1579474e-12],\n",
            "       ...,\n",
            "       [2.1125283e-14, 9.9999833e-01, 1.0846008e-10, ..., 4.7516511e-09,\n",
            "        3.5110734e-09, 1.4635922e-19],\n",
            "       [4.2228594e-09, 2.8338759e-06, 4.4741034e-07, ..., 3.8888751e-04,\n",
            "        1.6967483e-01, 1.6501025e-14],\n",
            "       [4.7704662e-10, 6.3338657e-13, 3.0530075e-12, ..., 5.2161049e-06,\n",
            "        9.9996436e-01, 2.9880423e-15]], dtype=float32), array([[9.99990106e-01, 3.83150525e-11, 1.20728818e-12, ...,\n",
            "        7.68103200e-06, 8.00316229e-07, 8.36732077e-23],\n",
            "       [3.19842275e-06, 4.91138897e-04, 8.62071756e-04, ...,\n",
            "        5.49578835e-05, 1.00829075e-05, 1.48922373e-22],\n",
            "       [1.16842653e-04, 3.84080012e-09, 1.53115555e-03, ...,\n",
            "        9.98263299e-01, 1.46075108e-05, 9.67658256e-21],\n",
            "       ...,\n",
            "       [9.90943777e-14, 9.99995708e-01, 7.21916624e-11, ...,\n",
            "        1.04737372e-10, 1.63856495e-09, 1.60841847e-08],\n",
            "       [2.67251398e-05, 1.41619559e-04, 9.99784887e-01, ...,\n",
            "        9.46069486e-06, 2.32656490e-08, 4.61009234e-27],\n",
            "       [2.51899768e-09, 7.72532076e-06, 1.65891412e-09, ...,\n",
            "        5.06093260e-04, 6.58227014e-04, 5.21373760e-17]], dtype=float32), array([[2.2334288e-09, 5.2141911e-07, 1.5213231e-10, ..., 5.5439194e-14,\n",
            "        6.5698885e-08, 7.3983199e-18],\n",
            "       [9.9797064e-01, 1.5267275e-03, 2.6276385e-07, ..., 8.3240069e-05,\n",
            "        2.2527801e-04, 5.8814946e-14],\n",
            "       [2.2783406e-09, 9.7010428e-01, 5.7386642e-06, ..., 4.2499360e-06,\n",
            "        3.0122348e-07, 1.6790178e-12],\n",
            "       ...,\n",
            "       [7.8452895e-12, 1.8683614e-06, 3.7232425e-10, ..., 1.1651761e-11,\n",
            "        1.8277979e-10, 9.9999809e-01],\n",
            "       [5.2935946e-12, 2.3402366e-07, 1.2758596e-14, ..., 4.3559892e-11,\n",
            "        3.9252219e-09, 2.8911293e-26],\n",
            "       [1.6377724e-08, 4.6981970e-04, 9.5535526e-09, ..., 1.1970990e-07,\n",
            "        9.5358622e-08, 3.2673731e-15]], dtype=float32), array([[1.7705077e-06, 4.6247416e-04, 4.6703103e-06, ..., 8.8279245e-07,\n",
            "        1.6404821e-03, 2.0177133e-09],\n",
            "       [9.9996138e-01, 2.6004523e-09, 2.7326407e-06, ..., 1.3161220e-05,\n",
            "        4.3952980e-07, 9.3970533e-11],\n",
            "       [9.4732678e-01, 1.7301437e-08, 2.1422550e-02, ..., 2.6021753e-02,\n",
            "        2.4698663e-03, 5.7978091e-13],\n",
            "       ...,\n",
            "       [9.9908820e-17, 4.8119806e-17, 1.5810127e-10, ..., 5.6413674e-13,\n",
            "        3.4663575e-20, 1.0000000e+00],\n",
            "       [3.5170309e-09, 9.9990463e-01, 1.4040917e-06, ..., 9.2535862e-05,\n",
            "        1.7440461e-11, 2.3404672e-13],\n",
            "       [8.2799525e-06, 2.1404749e-09, 2.4940125e-03, ..., 9.9749327e-01,\n",
            "        6.3471273e-10, 4.0354626e-11]], dtype=float32), array([[1.0323920e-17, 1.2138038e-13, 5.7950008e-16, ..., 7.7336352e-13,\n",
            "        3.0030072e-13, 1.0000000e+00],\n",
            "       [5.8230333e-04, 1.4398593e-04, 6.3948361e-03, ..., 9.6785116e-01,\n",
            "        1.5939279e-04, 2.3154240e-02],\n",
            "       [6.0519994e-07, 3.3557303e-06, 9.9700052e-01, ..., 1.3734502e-05,\n",
            "        5.0977892e-08, 2.9757826e-03],\n",
            "       ...,\n",
            "       [6.1611082e-22, 9.6014544e-20, 2.6248227e-19, ..., 5.0112825e-20,\n",
            "        1.5763303e-18, 1.0000000e+00],\n",
            "       [5.2984799e-08, 7.5270299e-07, 9.4288447e-07, ..., 1.2261423e-03,\n",
            "        7.4675792e-01, 2.1932616e-03],\n",
            "       [9.8859030e-01, 1.0555988e-09, 4.5793118e-07, ..., 1.7677778e-06,\n",
            "        3.9574068e-05, 1.1360118e-02]], dtype=float32)]\n"
          ]
        }
      ]
    },
    {
      "metadata": {
        "id": "6BAwhIZqSZG8"
      },
      "cell_type": "markdown",
      "source": [
        "Source: https://sajalsharma.com/portfolio/digit_sequence_recognition"
      ]
    },
    {
      "metadata": {
        "id": "W5DAKHvTpQ-B"
      },
      "cell_type": "markdown",
      "source": [
        "## Visualize Data\n",
        "Check the distribution of the labels to see what kind of data the MNIST dataset contains."
      ]
    },
    {
      "metadata": {
        "id": "EHd2PnBvZ524",
        "colab": {
          "base_uri": "https://localhost:8080/",
          "height": 194
        },
        "outputId": "8509daea-72b8-4e39-a854-2bacf22113e9"
      },
      "cell_type": "code",
      "source": [
        "from collections import Counter\n",
        "\n",
        "flat_test = [item for sublist in y_synth_test for item in sublist]\n",
        "flat_train = [item for sublist in y_synth_train for item in sublist]\n",
        "\n",
        "\n",
        "train_num_length = Counter(flat_train)\n",
        "test_num_length = Counter(flat_test)\n",
        "\n",
        "plt.figure()\n",
        "\n",
        "plt.subplot(251)\n",
        "plt.bar(train_num_length.keys(), train_num_length.values(), align='center')\n",
        "plt.title('Train')\n",
        "plt.xlabel('Length')\n",
        "\n",
        "plt.subplot(253)\n",
        "plt.bar(test_num_length.keys(), test_num_length.values(), align='center')\n",
        "plt.title('Test')\n",
        "plt.xlabel('Length')"
      ],
      "execution_count": null,
      "outputs": [
        {
          "output_type": "execute_result",
          "data": {
            "text/plain": [
              "Text(0.5, 0, 'Length')"
            ]
          },
          "metadata": {},
          "execution_count": 34
        },
        {
          "output_type": "display_data",
          "data": {
            "text/plain": [
              "<Figure size 432x288 with 2 Axes>"
            ],
            "image/png": "[encoded data removed]"
          },
          "metadata": {
            "needs_background": "light"
          }
        }
      ]
    },
    {
      "metadata": {
        "id": "e0cjub4Vi-j8",
        "colab": {
          "base_uri": "https://localhost:8080/",
          "height": 367
        },
        "outputId": "330531e2-b0ff-4261-cb40-f1b456ff0a53"
      },
      "cell_type": "code",
      "source": [
        "flat_test_reduced = []\n",
        "flat_train_reduced = []\n",
        "for sublist in y_synth_test:\n",
        "    for item in sublist:\n",
        "      if item is not 10:\n",
        "        flat_test_reduced.append(item)\n",
        "        \n",
        "for sublist in y_synth_train:\n",
        "    for item in sublist:\n",
        "      if item is not 10:\n",
        "        flat_train_reduced.append(item)\n",
        "        \n",
        "\n",
        "\n",
        "train_num_length_reduced = Counter(flat_train_reduced)\n",
        "test_num_length_reduced = Counter(flat_test_reduced)\n",
        "\n",
        "f, (ax1, ax2) = plt.subplots(1, 2, figsize=(20, 5))\n",
        "\n",
        "\n",
        "ax1.bar(train_num_length_reduced.keys(), train_num_length_reduced.values(), align='center')\n",
        "ax1.set_title('Train')\n",
        "ax1.set_xlabel('Length')\n",
        "\n",
        "ax2.bar(test_num_length_reduced.keys(), test_num_length_reduced.values(), align='center')\n",
        "ax2.set_title('Test')\n",
        "ax2.set_xlabel('Length')"
      ],
      "execution_count": null,
      "outputs": [
        {
          "output_type": "execute_result",
          "data": {
            "text/plain": [
              "Text(0.5, 0, 'Length')"
            ]
          },
          "metadata": {},
          "execution_count": 35
        },
        {
          "output_type": "display_data",
          "data": {
            "text/plain": [
              "<Figure size 1440x360 with 2 Axes>"
            ],
            "image/png": "[encoded data removed]"
          },
          "metadata": {
            "needs_background": "light"
          }
        }
      ]
    },
    {
      "cell_type": "markdown",
      "source": [
        "## Deploy "
      ],
      "metadata": {
        "id": "r-5mbhORBJNm"
      }
    },
    {
      "cell_type": "code",
      "source": [
        "from google.colab import drive\n",
        "drive.mount(\"/content/drive\")"
      ],
      "metadata": {
        "colab": {
          "base_uri": "https://localhost:8080/"
        },
        "id": "MyiulBuItGz4",
        "outputId": "704b0f4f-e807-43a5-db5b-c2c1153d8c8d"
      },
      "execution_count": null,
      "outputs": [
        {
          "output_type": "stream",
          "name": "stdout",
          "text": [
            "Mounted at /content/drive\n"
          ]
        }
      ]
    },
    {
      "cell_type": "code",
      "source": [
        "MODEL_DIR = tempfile.gettempdir()"
      ],
      "metadata": {
        "id": "YtxC8_lL47Hu"
      },
      "execution_count": null,
      "outputs": []
    },
    {
      "cell_type": "code",
      "source": [
        "MODEL_DIR"
      ],
      "metadata": {
        "colab": {
          "base_uri": "https://localhost:8080/",
          "height": 35
        },
        "id": "RopFtABk8Jwt",
        "outputId": "4ebf03a0-4c76-4948-e70e-d86aa59ee2fa"
      },
      "execution_count": null,
      "outputs": [
        {
          "output_type": "execute_result",
          "data": {
            "text/plain": [
              "'/tmp'"
            ],
            "application/vnd.google.colaboratory.intrinsic+json": {
              "type": "string"
            }
          },
          "metadata": {},
          "execution_count": 49
        }
      ]
    },
    {
      "cell_type": "code",
      "source": [
        "version = 1 "
      ],
      "metadata": {
        "id": "rDUnklYOLEre"
      },
      "execution_count": null,
      "outputs": []
    },
    {
      "cell_type": "code",
      "source": [
        "# Let's join the temp model directory with our chosen version number \n",
        "# The expected result will be = '\\tmp\\version number'\n",
        "export_path = os.path.join(MODEL_DIR, str(version))\n",
        "print('export_path = {}\\n'.format(export_path))"
      ],
      "metadata": {
        "colab": {
          "base_uri": "https://localhost:8080/"
        },
        "id": "k3BFgjZZLF1d",
        "outputId": "c31b0072-d358-49ea-8733-37bbb516abc0"
      },
      "execution_count": null,
      "outputs": [
        {
          "output_type": "stream",
          "name": "stdout",
          "text": [
            "export_path = /tmp/1\n",
            "\n"
          ]
        }
      ]
    },
    {
      "cell_type": "code",
      "source": [
        "# Let's save the model using simple_save\n",
        "# If the directory already exists, we will remove it using '!rm' \n",
        "# rm removes each file specified on the command line. \n",
        "\n",
        "if os.path.isdir(export_path):\n",
        "  print('\\nAlready saved a model, cleaning up\\n')\n",
        "  !rm -r {export_path}\n",
        "\n",
        "model.save(\n",
        "    export_path,)\n"
      ],
      "metadata": {
        "colab": {
          "base_uri": "https://localhost:8080/"
        },
        "id": "W8eTxHjBLIfc",
        "outputId": "780009ab-594e-4f01-c834-5ab4f9c50d58"
      },
      "execution_count": null,
      "outputs": [
        {
          "output_type": "stream",
          "name": "stdout",
          "text": [
            "INFO:tensorflow:Assets written to: /tmp/1/assets\n"
          ]
        }
      ]
    },
    {
      "cell_type": "code",
      "source": [
        "!ls -l {export_path}"
      ],
      "metadata": {
        "colab": {
          "base_uri": "https://localhost:8080/"
        },
        "id": "D9Ra026TLWhb",
        "outputId": "33ff75ae-91d7-47b3-c030-99ca016b0dc8"
      },
      "execution_count": null,
      "outputs": [
        {
          "output_type": "stream",
          "name": "stdout",
          "text": [
            "total 296\n",
            "drwxr-xr-x 2 root root   4096 Apr 25 19:22 assets\n",
            "-rw-r--r-- 1 root root  30105 Apr 25 19:22 keras_metadata.pb\n",
            "-rw-r--r-- 1 root root 259561 Apr 25 19:22 saved_model.pb\n",
            "drwxr-xr-x 2 root root   4096 Apr 25 19:22 variables\n"
          ]
        }
      ]
    },
    {
      "cell_type": "code",
      "source": [
        "# Now we can view our saved model\n",
        "!saved_model_cli show --dir {export_path} --all"
      ],
      "metadata": {
        "colab": {
          "base_uri": "https://localhost:8080/"
        },
        "id": "hb9qG73HLg93",
        "outputId": "b672a915-35ba-4e68-dd23-fb650faf8e12"
      },
      "execution_count": null,
      "outputs": [
        {
          "output_type": "stream",
          "name": "stdout",
          "text": [
            "\n",
            "MetaGraphDef with tag-set: 'serve' contains the following SignatureDefs:\n",
            "\n",
            "signature_def['__saved_model_init_op']:\n",
            "  The given SavedModel SignatureDef contains the following input(s):\n",
            "  The given SavedModel SignatureDef contains the following output(s):\n",
            "    outputs['__saved_model_init_op'] tensor_info:\n",
            "        dtype: DT_INVALID\n",
            "        shape: unknown_rank\n",
            "        name: NoOp\n",
            "  Method name is: \n",
            "\n",
            "signature_def['serving_default']:\n",
            "  The given SavedModel SignatureDef contains the following input(s):\n",
            "    inputs['input_2'] tensor_info:\n",
            "        dtype: DT_FLOAT\n",
            "        shape: (-1, 64, 64, 1)\n",
            "        name: serving_default_input_2:0\n",
            "  The given SavedModel SignatureDef contains the following output(s):\n",
            "    outputs['dense_10'] tensor_info:\n",
            "        dtype: DT_FLOAT\n",
            "        shape: (-1, 11)\n",
            "        name: StatefulPartitionedCall:0\n",
            "    outputs['dense_11'] tensor_info:\n",
            "        dtype: DT_FLOAT\n",
            "        shape: (-1, 11)\n",
            "        name: StatefulPartitionedCall:1\n",
            "    outputs['dense_7'] tensor_info:\n",
            "        dtype: DT_FLOAT\n",
            "        shape: (-1, 11)\n",
            "        name: StatefulPartitionedCall:2\n",
            "    outputs['dense_8'] tensor_info:\n",
            "        dtype: DT_FLOAT\n",
            "        shape: (-1, 11)\n",
            "        name: StatefulPartitionedCall:3\n",
            "    outputs['dense_9'] tensor_info:\n",
            "        dtype: DT_FLOAT\n",
            "        shape: (-1, 11)\n",
            "        name: StatefulPartitionedCall:4\n",
            "  Method name is: tensorflow/serving/predict\n",
            "\n",
            "Concrete Functions:\n",
            "  Function Name: '__call__'\n",
            "    Option #1\n",
            "      Callable with:\n",
            "        Argument #1\n",
            "          inputs: TensorSpec(shape=(None, 64, 64, 1), dtype=tf.float32, name='inputs')\n",
            "        Argument #2\n",
            "          DType: bool\n",
            "          Value: True\n",
            "        Argument #3\n",
            "          DType: NoneType\n",
            "          Value: None\n",
            "    Option #2\n",
            "      Callable with:\n",
            "        Argument #1\n",
            "          input_2: TensorSpec(shape=(None, 64, 64, 1), dtype=tf.float32, name='input_2')\n",
            "        Argument #2\n",
            "          DType: bool\n",
            "          Value: True\n",
            "        Argument #3\n",
            "          DType: NoneType\n",
            "          Value: None\n",
            "    Option #3\n",
            "      Callable with:\n",
            "        Argument #1\n",
            "          input_2: TensorSpec(shape=(None, 64, 64, 1), dtype=tf.float32, name='input_2')\n",
            "        Argument #2\n",
            "          DType: bool\n",
            "          Value: False\n",
            "        Argument #3\n",
            "          DType: NoneType\n",
            "          Value: None\n",
            "    Option #4\n",
            "      Callable with:\n",
            "        Argument #1\n",
            "          inputs: TensorSpec(shape=(None, 64, 64, 1), dtype=tf.float32, name='inputs')\n",
            "        Argument #2\n",
            "          DType: bool\n",
            "          Value: False\n",
            "        Argument #3\n",
            "          DType: NoneType\n",
            "          Value: None\n",
            "\n",
            "  Function Name: '_default_save_signature'\n",
            "    Option #1\n",
            "      Callable with:\n",
            "        Argument #1\n",
            "          input_2: TensorSpec(shape=(None, 64, 64, 1), dtype=tf.float32, name='input_2')\n",
            "\n",
            "  Function Name: 'call_and_return_all_conditional_losses'\n",
            "    Option #1\n",
            "      Callable with:\n",
            "        Argument #1\n",
            "          input_2: TensorSpec(shape=(None, 64, 64, 1), dtype=tf.float32, name='input_2')\n",
            "        Argument #2\n",
            "          DType: bool\n",
            "          Value: True\n",
            "        Argument #3\n",
            "          DType: NoneType\n",
            "          Value: None\n",
            "    Option #2\n",
            "      Callable with:\n",
            "        Argument #1\n",
            "          inputs: TensorSpec(shape=(None, 64, 64, 1), dtype=tf.float32, name='inputs')\n",
            "        Argument #2\n",
            "          DType: bool\n",
            "          Value: False\n",
            "        Argument #3\n",
            "          DType: NoneType\n",
            "          Value: None\n",
            "    Option #3\n",
            "      Callable with:\n",
            "        Argument #1\n",
            "          inputs: TensorSpec(shape=(None, 64, 64, 1), dtype=tf.float32, name='inputs')\n",
            "        Argument #2\n",
            "          DType: bool\n",
            "          Value: True\n",
            "        Argument #3\n",
            "          DType: NoneType\n",
            "          Value: None\n",
            "    Option #4\n",
            "      Callable with:\n",
            "        Argument #1\n",
            "          input_2: TensorSpec(shape=(None, 64, 64, 1), dtype=tf.float32, name='input_2')\n",
            "        Argument #2\n",
            "          DType: bool\n",
            "          Value: False\n",
            "        Argument #3\n",
            "          DType: NoneType\n",
            "          Value: None\n"
          ]
        }
      ]
    },
    {
      "cell_type": "code",
      "source": [
        "!echo \"deb http://storage.googleapis.com/tensorflow-serving-apt stable tensorflow-model-server tensorflow-model-server-universal\" | tee /etc/apt/sources.list.d/tensorflow-serving.list && \\\n",
        "curl https://storage.googleapis.com/tensorflow-serving-apt/tensorflow-serving.release.pub.gpg | apt-key add -\n",
        "!apt update"
      ],
      "metadata": {
        "colab": {
          "base_uri": "https://localhost:8080/"
        },
        "id": "kY2-ep-pLsse",
        "outputId": "993fbe8f-1c80-43c5-afc9-9d62a0e87252"
      },
      "execution_count": null,
      "outputs": [
        {
          "output_type": "stream",
          "name": "stdout",
          "text": [
            "deb http://storage.googleapis.com/tensorflow-serving-apt stable tensorflow-model-server tensorflow-model-server-universal\n",
            "  % Total    % Received % Xferd  Average Speed   Time    Time     Time  Current\n",
            "                                 Dload  Upload   Total   Spent    Left  Speed\n",
            "\r  0     0    0     0    0     0      0      0 --:--:-- --:--:-- --:--:--     0\r  0     0    0     0    0     0      0      0 --:--:-- --:--:-- --:--:--     0\r100  2943  100  2943    0     0  60061      0 --:--:-- --:--:-- --:--:-- 58860\n",
            "OK\n",
            "Get:1 http://storage.googleapis.com/tensorflow-serving-apt stable InRelease [3,012 B]\n",
            "Hit:2 http://archive.ubuntu.com/ubuntu bionic InRelease\n",
            "Get:3 https://cloud.r-project.org/bin/linux/ubuntu bionic-cran40/ InRelease [3,626 B]\n",
            "Get:4 http://archive.ubuntu.com/ubuntu bionic-updates InRelease [88.7 kB]\n",
            "Ign:5 https://developer.download.nvidia.com/compute/cuda/repos/ubuntu1804/x86_64  InRelease\n",
            "Get:6 http://security.ubuntu.com/ubuntu bionic-security InRelease [88.7 kB]\n",
            "Ign:7 https://developer.download.nvidia.com/compute/machine-learning/repos/ubuntu1804/x86_64  InRelease\n",
            "Hit:8 https://developer.download.nvidia.com/compute/cuda/repos/ubuntu1804/x86_64  Release\n",
            "Get:9 http://ppa.launchpad.net/c2d4u.team/c2d4u4.0+/ubuntu bionic InRelease [15.9 kB]\n",
            "Hit:10 https://developer.download.nvidia.com/compute/machine-learning/repos/ubuntu1804/x86_64  Release\n",
            "Get:11 http://archive.ubuntu.com/ubuntu bionic-backports InRelease [74.6 kB]\n",
            "Get:12 http://storage.googleapis.com/tensorflow-serving-apt stable/tensorflow-model-server-universal amd64 Packages [349 B]\n",
            "Get:13 http://storage.googleapis.com/tensorflow-serving-apt stable/tensorflow-model-server amd64 Packages [341 B]\n",
            "Hit:14 http://ppa.launchpad.net/cran/libgit2/ubuntu bionic InRelease\n",
            "Get:15 http://ppa.launchpad.net/deadsnakes/ppa/ubuntu bionic InRelease [15.9 kB]\n",
            "Hit:17 http://ppa.launchpad.net/graphics-drivers/ppa/ubuntu bionic InRelease\n",
            "Get:18 http://archive.ubuntu.com/ubuntu bionic-updates/universe amd64 Packages [2,272 kB]\n",
            "Get:20 http://archive.ubuntu.com/ubuntu bionic-updates/main amd64 Packages [3,167 kB]\n",
            "Get:21 http://archive.ubuntu.com/ubuntu bionic-updates/restricted amd64 Packages [942 kB]\n",
            "Get:22 http://ppa.launchpad.net/c2d4u.team/c2d4u4.0+/ubuntu bionic/main Sources [1,949 kB]\n",
            "Get:23 http://security.ubuntu.com/ubuntu bionic-security/restricted amd64 Packages [909 kB]\n",
            "Get:24 http://security.ubuntu.com/ubuntu bionic-security/main amd64 Packages [2,732 kB]\n",
            "Get:25 http://security.ubuntu.com/ubuntu bionic-security/universe amd64 Packages [1,496 kB]\n",
            "Get:26 http://ppa.launchpad.net/c2d4u.team/c2d4u4.0+/ubuntu bionic/main amd64 Packages [999 kB]\n",
            "Get:27 http://ppa.launchpad.net/deadsnakes/ppa/ubuntu bionic/main amd64 Packages [45.3 kB]\n",
            "Fetched 14.8 MB in 4s (3,357 kB/s)\n",
            "Reading package lists... Done\n",
            "Building dependency tree       \n",
            "Reading state information... Done\n",
            "56 packages can be upgraded. Run 'apt list --upgradable' to see them.\n"
          ]
        }
      ]
    },
    {
      "cell_type": "code",
      "source": [
        "!apt-get install tensorflow-model-server"
      ],
      "metadata": {
        "colab": {
          "base_uri": "https://localhost:8080/"
        },
        "id": "mX71bSEuLyak",
        "outputId": "c1b9b215-a08d-4992-ef88-30f471f9afc5"
      },
      "execution_count": null,
      "outputs": [
        {
          "output_type": "stream",
          "name": "stdout",
          "text": [
            "Reading package lists... Done\n",
            "Building dependency tree       \n",
            "Reading state information... Done\n",
            "The following NEW packages will be installed:\n",
            "  tensorflow-model-server\n",
            "0 upgraded, 1 newly installed, 0 to remove and 56 not upgraded.\n",
            "Need to get 340 MB of archives.\n",
            "After this operation, 0 B of additional disk space will be used.\n",
            "Get:1 http://storage.googleapis.com/tensorflow-serving-apt stable/tensorflow-model-server amd64 tensorflow-model-server all 2.8.0 [340 MB]\n",
            "Fetched 340 MB in 7s (50.6 MB/s)\n",
            "Selecting previously unselected package tensorflow-model-server.\n",
            "(Reading database ... 155501 files and directories currently installed.)\n",
            "Preparing to unpack .../tensorflow-model-server_2.8.0_all.deb ...\n",
            "Unpacking tensorflow-model-server (2.8.0) ...\n",
            "Setting up tensorflow-model-server (2.8.0) ...\n"
          ]
        }
      ]
    },
    {
      "cell_type": "code",
      "source": [
        "os.environ[\"MODEL_DIR\"] = MODEL_DIR"
      ],
      "metadata": {
        "id": "PGoe5nMEL3k8"
      },
      "execution_count": null,
      "outputs": []
    },
    {
      "cell_type": "code",
      "source": [
        "%%bash --bg \n",
        "nohup tensorflow_model_server \\\n",
        "  --rest_api_port=8501 \\\n",
        "  --model_name=fashion_model \\\n",
        "  --model_base_path=\"${MODEL_DIR}\" >server.log 2>&1"
      ],
      "metadata": {
        "colab": {
          "base_uri": "https://localhost:8080/"
        },
        "id": "lMIOAJodL8pQ",
        "outputId": "388f4275-00aa-4d58-ed68-7b62c057dceb"
      },
      "execution_count": null,
      "outputs": [
        {
          "output_type": "stream",
          "name": "stdout",
          "text": [
            "Starting job # 0 in a separate thread.\n"
          ]
        }
      ]
    },
    {
      "cell_type": "code",
      "source": [
        "!tail server.log"
      ],
      "metadata": {
        "colab": {
          "base_uri": "https://localhost:8080/"
        },
        "id": "9ltm3oB3L_J1",
        "outputId": "b49ea166-0406-4be0-f60e-f6d6f54d1ff5"
      },
      "execution_count": null,
      "outputs": [
        {
          "output_type": "stream",
          "name": "stdout",
          "text": [
            "[warn] getaddrinfo: address family for nodename not supported\n",
            "[evhttp_server.cc : 245] NET_LOG: Entering the event loop ...\n"
          ]
        }
      ]
    },
    {
      "cell_type": "code",
      "source": [
        "def show(idx, title):\n",
        "  plt.figure()\n",
        "  plt.imshow(X_test[idx].reshape(64,64))\n",
        "  plt.title('\\n\\n{}'.format(title), fontdict={'size': 16})\n"
      ],
      "metadata": {
        "id": "wWho2dRTMAwc"
      },
      "execution_count": null,
      "outputs": []
    },
    {
      "cell_type": "code",
      "source": [
        "rando = random.randint(0,len(X_test)-1)\n"
      ],
      "metadata": {
        "colab": {
          "base_uri": "https://localhost:8080/",
          "height": 305
        },
        "id": "y-kA7UOPMIUX",
        "outputId": "17aa4782-647e-47d5-b8e6-3644077c116d"
      },
      "execution_count": null,
      "outputs": [
        {
          "output_type": "error",
          "ename": "ValueError",
          "evalue": "ignored",
          "traceback": [
            "\u001b[0;31m---------------------------------------------------------------------------\u001b[0m",
            "\u001b[0;31mValueError\u001b[0m                                Traceback (most recent call last)",
            "\u001b[0;32m<ipython-input-65-428bd40d329d>\u001b[0m in \u001b[0;36m<module>\u001b[0;34m()\u001b[0m\n\u001b[1;32m      1\u001b[0m \u001b[0mrando\u001b[0m \u001b[0;34m=\u001b[0m \u001b[0mrandom\u001b[0m\u001b[0;34m.\u001b[0m\u001b[0mrandint\u001b[0m\u001b[0;34m(\u001b[0m\u001b[0;36m0\u001b[0m\u001b[0;34m,\u001b[0m\u001b[0mlen\u001b[0m\u001b[0;34m(\u001b[0m\u001b[0mX_test\u001b[0m\u001b[0;34m)\u001b[0m\u001b[0;34m-\u001b[0m\u001b[0;36m1\u001b[0m\u001b[0;34m)\u001b[0m\u001b[0;34m\u001b[0m\u001b[0;34m\u001b[0m\u001b[0m\n\u001b[0;32m----> 2\u001b[0;31m \u001b[0mshow\u001b[0m\u001b[0;34m(\u001b[0m\u001b[0mrando\u001b[0m\u001b[0;34m,\u001b[0m \u001b[0;34m'An Example Image: {}'\u001b[0m\u001b[0;34m.\u001b[0m\u001b[0mformat\u001b[0m\u001b[0;34m(\u001b[0m\u001b[0;34m[\u001b[0m\u001b[0my_test\u001b[0m\u001b[0;34m[\u001b[0m\u001b[0mrando\u001b[0m\u001b[0;34m]\u001b[0m\u001b[0;34m]\u001b[0m\u001b[0;34m)\u001b[0m\u001b[0;34m)\u001b[0m\u001b[0;34m\u001b[0m\u001b[0;34m\u001b[0m\u001b[0m\n\u001b[0m",
            "\u001b[0;32m<ipython-input-63-1baee20ea6b8>\u001b[0m in \u001b[0;36mshow\u001b[0;34m(idx, title)\u001b[0m\n\u001b[1;32m      1\u001b[0m \u001b[0;32mdef\u001b[0m \u001b[0mshow\u001b[0m\u001b[0;34m(\u001b[0m\u001b[0midx\u001b[0m\u001b[0;34m,\u001b[0m \u001b[0mtitle\u001b[0m\u001b[0;34m)\u001b[0m\u001b[0;34m:\u001b[0m\u001b[0;34m\u001b[0m\u001b[0;34m\u001b[0m\u001b[0m\n\u001b[1;32m      2\u001b[0m   \u001b[0mplt\u001b[0m\u001b[0;34m.\u001b[0m\u001b[0mfigure\u001b[0m\u001b[0;34m(\u001b[0m\u001b[0;34m)\u001b[0m\u001b[0;34m\u001b[0m\u001b[0;34m\u001b[0m\u001b[0m\n\u001b[0;32m----> 3\u001b[0;31m   \u001b[0mplt\u001b[0m\u001b[0;34m.\u001b[0m\u001b[0mimshow\u001b[0m\u001b[0;34m(\u001b[0m\u001b[0mX_test\u001b[0m\u001b[0;34m[\u001b[0m\u001b[0midx\u001b[0m\u001b[0;34m]\u001b[0m\u001b[0;34m.\u001b[0m\u001b[0mreshape\u001b[0m\u001b[0;34m(\u001b[0m\u001b[0;36m64\u001b[0m\u001b[0;34m,\u001b[0m\u001b[0;36m64\u001b[0m\u001b[0;34m)\u001b[0m\u001b[0;34m)\u001b[0m\u001b[0;34m\u001b[0m\u001b[0;34m\u001b[0m\u001b[0m\n\u001b[0m\u001b[1;32m      4\u001b[0m   \u001b[0mplt\u001b[0m\u001b[0;34m.\u001b[0m\u001b[0mtitle\u001b[0m\u001b[0;34m(\u001b[0m\u001b[0;34m'\\n\\n{}'\u001b[0m\u001b[0;34m.\u001b[0m\u001b[0mformat\u001b[0m\u001b[0;34m(\u001b[0m\u001b[0mtitle\u001b[0m\u001b[0;34m)\u001b[0m\u001b[0;34m,\u001b[0m \u001b[0mfontdict\u001b[0m\u001b[0;34m=\u001b[0m\u001b[0;34m{\u001b[0m\u001b[0;34m'size'\u001b[0m\u001b[0;34m:\u001b[0m \u001b[0;36m16\u001b[0m\u001b[0;34m}\u001b[0m\u001b[0;34m)\u001b[0m\u001b[0;34m\u001b[0m\u001b[0;34m\u001b[0m\u001b[0m\n",
            "\u001b[0;31mValueError\u001b[0m: cannot reshape array of size 784 into shape (64,64)"
          ]
        },
        {
          "output_type": "display_data",
          "data": {
            "text/plain": [
              "<Figure size 432x288 with 0 Axes>"
            ]
          },
          "metadata": {}
        }
      ]
    },
    {
      "cell_type": "code",
      "source": [
        ""
      ],
      "metadata": {
        "id": "av6aKl1xMIZQ"
      },
      "execution_count": null,
      "outputs": []
    }
  ]
}